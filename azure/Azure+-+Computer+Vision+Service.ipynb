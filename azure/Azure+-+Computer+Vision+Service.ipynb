{
 "cells": [
  {
   "cell_type": "markdown",
   "metadata": {},
   "source": [
    "# Azure Computer Vision Test - Landmarks"
   ]
  },
  {
   "cell_type": "markdown",
   "metadata": {},
   "source": [
    "In this notebook, 3 landmarks will be used to see if Azure Computer Vision can recognize them successfully.\n",
    "\n",
    "- Space Museum (Hong Kong)\n",
    "- Clock Tower (Hong Kong)\n",
    "- British Museum (London)\n",
    "\n",
    "Images found on internet will be used."
   ]
  },
  {
   "cell_type": "code",
   "execution_count": null,
   "metadata": {},
   "outputs": [],
   "source": [
    "import requests\n",
    "import json\n",
    "import pprint\n",
    "from IPython.display import Image, display"
   ]
  },
  {
   "cell_type": "code",
   "execution_count": null,
   "metadata": {},
   "outputs": [],
   "source": [
    "# define Azure API Endpoint\n",
    "AZURE_API_ENDPOINT = \"https://southeastasia.api.cognitive.microsoft.com/vision/v2.0/analyze?visualFeatures=Categories&details=Landmarks&language=en\"\n",
    "\n",
    "# define Azure API key\n",
    "API_KEY = input()\n",
    "#print(\"API Key: \" + API_KEY)"
   ]
  },
  {
   "cell_type": "code",
   "execution_count": null,
   "metadata": {
    "collapsed": true
   },
   "outputs": [],
   "source": [
    "def azure_vision_test(api_key, image_url):\n",
    "    \"\"\" Azure Vision test function\n",
    "    \n",
    "    Call Azure Cognitive API to perform the analyze;\n",
    "    The image will be displayed together with the 'categories' in the JSON response\n",
    "    \n",
    "    Args:\n",
    "        api_key: API key to be used\n",
    "        image_url: Image to be passed to API for processing\n",
    "        \n",
    "    \"\"\"\n",
    "    \n",
    "    header = {\"Content-Type\": \"application/json\", \"Ocp-Apim-Subscription-Key\": api_key}\n",
    "    payload = {\"url\": image_url}\n",
    "    \n",
    "    # send to API endpoint\n",
    "    r = requests.post(AZURE_API_ENDPOINT, headers=header, data=json.dumps(payload))\n",
    "    \n",
    "    # display the image\n",
    "    display(Image(url=image_url, width=300))\n",
    "    \n",
    "    # print URL\n",
    "    print(image_url)\n",
    "    \n",
    "    # load the response JSON\n",
    "    jr = json.loads(r.text)\n",
    "\n",
    "    for category in jr['categories']:\n",
    "        print(category)"
   ]
  },
  {
   "cell_type": "code",
   "execution_count": null,
   "metadata": {},
   "outputs": [],
   "source": [
    "space_museum_image_urls = [\n",
    "    \"http://www.discoverhongkong.com/us/images/see-do/culture-heritage/large/1.4.4.2.3-Hong-Kong-Space-Museum_03.jpg\",\n",
    "    \"http://www.arounddb.com/wp-content/uploads/2018/04/HK-Space-museum.png\",\n",
    "    \"https://media.gettyimages.com/photos/dome-of-the-hong-kong-space-museum-sculpture-hong-kong-china-picture-id817051668\",\n",
    "    \"https://www.lcsd.gov.hk/CE/Museum/Space/image/image_gallery-67ee51d4-16c4-40b6-8804-3330b1446663.html?uuid=67ee51d4-16c4-40b6-8804-3330b1446663&groupId=2178963&t=1546230902885\",\n",
    "    \"https://cdntct.com/tct/pic/city/hongkong/attractions/hong-kong-space-museum-01.jpg\",\n",
    "    \"https://www.makemytrip.com/travel-guide/media/dg_image/hong_kong/Space-Museum_Hong-Kong.jpg\"\n",
    "]\n",
    "\n",
    "for image_url in space_museum_image_urls:\n",
    "    azure_vision_test(API_KEY, image_url)"
   ]
  },
  {
   "cell_type": "code",
   "execution_count": null,
   "metadata": {
    "scrolled": false
   },
   "outputs": [],
   "source": [
    "clocktower_image_urls = [\n",
    "    \"http://www.discoverhongkong.com/in/images/see-do/culture-heritage/large/1.4.5.1.3-Clock-Tower_03b.jpg\",\n",
    "    \"https://media-cdn.sygictraveldata.com/media/800x600/612664395a40232133447d33247d3832373932373935\",\n",
    "    \"https://www.nextstophongkong.com/wp-content/uploads/2014/04/Clock-Tower-Hong-Kong.jpg\",\n",
    "    \"http://www.kfntravelguide.com/wp-content/uploads/2017/04/maxresdefault-7-1200x675.jpg\",\n",
    "    \"http://www.kfntravelguide.com/wp-content/uploads/2017/04/1280px-Hong_Kong_Clock_Tower.jpg\",\n",
    "    \"http://gianclaudio.ch/koken/i.php?/000/342/L88A0295,medium_large.1516046038.jpg\"\n",
    "]\n",
    "\n",
    "for image_url in clocktower_image_urls:\n",
    "    azure_vision_test(API_KEY, image_url)    "
   ]
  },
  {
   "cell_type": "code",
   "execution_count": null,
   "metadata": {},
   "outputs": [],
   "source": [
    "british_museum_image_urls = [\n",
    "    \"https://news.artnet.com/app/news-upload/2018/05/00917427_001-1024x749.jpg\",\n",
    "    \"https://st2.depositphotos.com/1022597/8572/i/950/depositphotos_85729640-stock-photo-tourists-at-british-museum-in.jpg\",\n",
    "    \"http://img.zhengjian.org/news_images/20096/2009_6_30_meishu49.jpg\",\n",
    "    \"https://www.thenational.ae/image/policy:1.742465:1529513643/000_DV2142720.jpg?f=16x9&w=1200&$p$f$w=cd922a9\",\n",
    "    \"http://www.youinlondon.com/wp-content/uploads/2017/05/British-Museum-exterior-1024x576.jpg\",\n",
    "    \"https://www.p.city-walks.info/London/British-Museum.jpg\"\n",
    "]\n",
    "\n",
    "for image_url in british_museum_image_urls:\n",
    "    azure_vision_test(API_KEY, image_url)    "
   ]
  },
  {
   "cell_type": "code",
   "execution_count": null,
   "metadata": {
    "collapsed": true
   },
   "outputs": [],
   "source": []
  }
 ],
 "metadata": {
  "kernelspec": {
   "display_name": "Python 3",
   "language": "python",
   "name": "python3"
  },
  "language_info": {
   "codemirror_mode": {
    "name": "ipython",
    "version": 3
   },
   "file_extension": ".py",
   "mimetype": "text/x-python",
   "name": "python",
   "nbconvert_exporter": "python",
   "pygments_lexer": "ipython3",
   "version": "3.6.3"
  }
 },
 "nbformat": 4,
 "nbformat_minor": 2
}
